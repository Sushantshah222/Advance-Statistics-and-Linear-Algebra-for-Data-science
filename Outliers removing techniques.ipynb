{
  "nbformat": 4,
  "nbformat_minor": 0,
  "metadata": {
    "colab": {
      "name": "stat (outliers).ipynb",
      "provenance": []
    },
    "kernelspec": {
      "name": "python3",
      "display_name": "Python 3"
    },
    "language_info": {
      "name": "python"
    }
  },
  "cells": [
    {
      "cell_type": "markdown",
      "source": [
        "# Advance Statistics in Data Science using Python\n",
        "\n",
        "\n",
        "\n",
        "\n"
      ],
      "metadata": {
        "id": "nQp-ZOykWo8Y"
      }
    },
    {
      "cell_type": "markdown",
      "source": [
        "###Creating and Visualizing Dataset"
      ],
      "metadata": {
        "id": "9mve-XpUaUMy"
      }
    },
    {
      "cell_type": "code",
      "execution_count": 1,
      "metadata": {
        "id": "JTKwYi07To7n"
      },
      "outputs": [],
      "source": [
        "import numpy as np\n",
        "import matplotlib.pyplot as plt\n",
        "%matplotlib inline"
      ]
    },
    {
      "cell_type": "code",
      "source": [
        "dataset =  [11,10,12,14,12,15,14,13,15,102,12,14,17,19,107, 10,13,12,14,12,108,12,11,14,13,15,10,15,12,10,14,13,15,10]\n",
        "n = len(dataset)"
      ],
      "metadata": {
        "id": "Y9RTUxxYUKIE"
      },
      "execution_count": 17,
      "outputs": []
    },
    {
      "cell_type": "code",
      "source": [
        "plt.hist(dataset)"
      ],
      "metadata": {
        "colab": {
          "base_uri": "https://localhost:8080/",
          "height": 338
        },
        "id": "KbsjqozJWFQk",
        "outputId": "5ac3b5c3-39ff-46bf-a45e-7667f3202bd4"
      },
      "execution_count": 18,
      "outputs": [
        {
          "output_type": "execute_result",
          "data": {
            "text/plain": [
              "(array([31.,  0.,  0.,  0.,  0.,  0.,  0.,  0.,  0.,  3.]),\n",
              " array([ 10. ,  19.8,  29.6,  39.4,  49.2,  59. ,  68.8,  78.6,  88.4,\n",
              "         98.2, 108. ]),\n",
              " <a list of 10 Patch objects>)"
            ]
          },
          "metadata": {},
          "execution_count": 18
        },
        {
          "output_type": "display_data",
          "data": {
            "image/png": "[encoded data removed]",
            "text/plain": [
              "<Figure size 432x288 with 1 Axes>"
            ]
          },
          "metadata": {
            "needs_background": "light"
          }
        }
      ]
    },
    {
      "cell_type": "markdown",
      "source": [
        "###Z-Score Method to find Outliers"
      ],
      "metadata": {
        "id": "KoO3Aj_eZ9q5"
      }
    },
    {
      "cell_type": "markdown",
      "source": [
        "Emperical Formula:\n",
        "**68% - 95% - 99.7%** **Rule**\n",
        "\n",
        "\n"
      ],
      "metadata": {
        "id": "fIX59FoxXzb3"
      }
    },
    {
      "cell_type": "code",
      "source": [
        "outliers = []\n",
        "\n",
        "def detect_outliers(data):\n",
        "  threshold = 3       #we take data above 3rd Standard deviation \n",
        "  mean = np.mean(data)\n",
        "  std = np.std(data)\n",
        "\n",
        "  for i in data:\n",
        "    Z_score = (i-mean)/std\n",
        "    if np.abs(Z_score)>threshold:\n",
        "      outliers.append(i)\n",
        "    \n",
        "\n",
        "  return outliers\n"
      ],
      "metadata": {
        "id": "cwRP4zD9UJ-I"
      },
      "execution_count": 19,
      "outputs": []
    },
    {
      "cell_type": "code",
      "source": [
        "detect_outliers(dataset)"
      ],
      "metadata": {
        "colab": {
          "base_uri": "https://localhost:8080/"
        },
        "id": "Fquwu2hNUKQS",
        "outputId": "11ee7642-8eab-4e02-bab7-2d1beacddd01"
      },
      "execution_count": 20,
      "outputs": [
        {
          "output_type": "execute_result",
          "data": {
            "text/plain": [
              "[102, 107, 108]"
            ]
          },
          "metadata": {},
          "execution_count": 20
        }
      ]
    },
    {
      "cell_type": "markdown",
      "source": [
        "###IQR Method to find Outliers"
      ],
      "metadata": {
        "id": "ucIFxBipYP3G"
      }
    },
    {
      "cell_type": "markdown",
      "source": [
        "To calculate IQR(Inter Quartile Range):\n",
        "\n",
        "\n",
        "1.   Short the dataset\n",
        "2.   calculate **1st Quartile** and **3rd Quartile**\n",
        "3. Find **Lower fence = Q1 -1.5(IQR)**\n",
        "4. Find **Upper fence = Q3 -1.5(IQR)**\n",
        "\n",
        "\n"
      ],
      "metadata": {
        "id": "ML4JSaqfYe_u"
      }
    },
    {
      "cell_type": "code",
      "source": [
        "dataset = np.sort(dataset)\n",
        "dataset\n",
        "\n"
      ],
      "metadata": {
        "colab": {
          "base_uri": "https://localhost:8080/"
        },
        "id": "NN93ftjDYUIi",
        "outputId": "15097972-0d8f-4104-f380-4d2fd68564d3"
      },
      "execution_count": 31,
      "outputs": [
        {
          "output_type": "execute_result",
          "data": {
            "text/plain": [
              "array([ 10,  10,  10,  10,  10,  11,  11,  12,  12,  12,  12,  12,  12,\n",
              "        12,  13,  13,  13,  13,  14,  14,  14,  14,  14,  14,  15,  15,\n",
              "        15,  15,  15,  17,  19, 102, 107, 108])"
            ]
          },
          "metadata": {},
          "execution_count": 31
        }
      ]
    },
    {
      "cell_type": "code",
      "source": [
        "#Q1 = (25/100)*(n+1) th index\n",
        "#Q2 = (75/100)*(n+1) th index\n",
        "\n",
        "Q1,Q3 = np.percentile(dataset,[25,75])"
      ],
      "metadata": {
        "id": "LQEJvzora4PZ"
      },
      "execution_count": 24,
      "outputs": []
    },
    {
      "cell_type": "code",
      "source": [
        "print(Q1,Q3)"
      ],
      "metadata": {
        "colab": {
          "base_uri": "https://localhost:8080/"
        },
        "id": "CTlUlX6ubdM6",
        "outputId": "745b8ff7-a45f-44f3-e272-b5e4e83dc60f"
      },
      "execution_count": 25,
      "outputs": [
        {
          "output_type": "stream",
          "name": "stdout",
          "text": [
            "12.0 15.0\n"
          ]
        }
      ]
    },
    {
      "cell_type": "code",
      "source": [
        "IQR = Q3 - Q1"
      ],
      "metadata": {
        "id": "NpHSahO1byGI"
      },
      "execution_count": 26,
      "outputs": []
    },
    {
      "cell_type": "code",
      "source": [
        "Lower_fence = Q1 - 1.5*(IQR)\n",
        "Upper_fence = Q3 + 1.5*(IQR)\n",
        "\n"
      ],
      "metadata": {
        "id": "gfmbkZORbgJ3"
      },
      "execution_count": 29,
      "outputs": []
    },
    {
      "cell_type": "code",
      "source": [
        "print(Lower_fence,Upper_fence)"
      ],
      "metadata": {
        "colab": {
          "base_uri": "https://localhost:8080/"
        },
        "id": "cSGNKW0lb1xn",
        "outputId": "2a9d169a-86f0-4406-d902-5a9672c2abfd"
      },
      "execution_count": 30,
      "outputs": [
        {
          "output_type": "stream",
          "name": "stdout",
          "text": [
            "7.5 19.5\n"
          ]
        }
      ]
    },
    {
      "cell_type": "code",
      "source": [
        "import seaborn as sns \n",
        "\n",
        "sns.boxplot(dataset)\n"
      ],
      "metadata": {
        "colab": {
          "base_uri": "https://localhost:8080/",
          "height": 340
        },
        "id": "f51n1BePcofT",
        "outputId": "c1682b52-0fcc-4cb0-dfbd-5a8d91f4858e"
      },
      "execution_count": 34,
      "outputs": [
        {
          "output_type": "stream",
          "name": "stderr",
          "text": [
            "/usr/local/lib/python3.7/dist-packages/seaborn/_decorators.py:43: FutureWarning: Pass the following variable as a keyword arg: x. From version 0.12, the only valid positional argument will be `data`, and passing other arguments without an explicit keyword will result in an error or misinterpretation.\n",
            "  FutureWarning\n"
          ]
        },
        {
          "output_type": "execute_result",
          "data": {
            "text/plain": [
              "<matplotlib.axes._subplots.AxesSubplot at 0x7ffadf0c7810>"
            ]
          },
          "metadata": {},
          "execution_count": 34
        },
        {
          "output_type": "display_data",
          "data": {
            "image/png": "[encoded data removed]",
            "text/plain": [
              "<Figure size 432x288 with 1 Axes>"
            ]
          },
          "metadata": {
            "needs_background": "light"
          }
        }
      ]
    },
    {
      "cell_type": "code",
      "source": [
        ""
      ],
      "metadata": {
        "id": "Fy8U19VSdLjv"
      },
      "execution_count": null,
      "outputs": []
    },
    {
      "cell_type": "code",
      "source": [
        ""
      ],
      "metadata": {
        "id": "_tIPaxErdZpo"
      },
      "execution_count": null,
      "outputs": []
    }
  ]
}